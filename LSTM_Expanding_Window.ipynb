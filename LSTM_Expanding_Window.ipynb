{
  "nbformat": 4,
  "nbformat_minor": 0,
  "metadata": {
    "colab": {
      "provenance": []
    },
    "kernelspec": {
      "name": "python3",
      "display_name": "Python 3"
    },
    "language_info": {
      "name": "python"
    }
  },
  "cells": [
    {
      "cell_type": "code",
      "execution_count": null,
      "metadata": {
        "id": "RnghMJXPE-Fy"
      },
      "outputs": [],
      "source": [
        "###################################\n",
        "##### Importar Librerías ##########\n",
        "###################################\n",
        "import pandas as pd\n",
        "import numpy as np\n",
        "import matplotlib.pyplot as plt\n",
        "from sklearn.preprocessing import MinMaxScaler\n",
        "from sklearn.metrics import mean_squared_error\n",
        "import warnings\n",
        "warnings.filterwarnings('ignore')\n",
        "import tensorflow as tf\n",
        "from tensorflow.keras import Sequential\n",
        "from tensorflow.keras.layers import Dense, LSTM, Dropout\n",
        "import yfinance as yf\n",
        "import datetime as dt\n",
        "import time\n",
        "from tensorflow.keras.callbacks import EarlyStopping\n",
        "%matplotlib inline\n"
      ]
    },
    {
      "cell_type": "code",
      "source": [
        "###########################################\n",
        "####  Descargar Datos de Yahoo Finance ####\n",
        "###########################################\n",
        "start_date = dt.datetime(2021, 4, 1)\n",
        "end_date = dt.datetime(2025, 4, 1)\n",
        "\n",
        "db = yf.download('^GSPC', start=start_date, end=end_date)\n",
        "print(db.head())\n",
        "data = db[['Close']]\n"
      ],
      "metadata": {
        "colab": {
          "base_uri": "https://localhost:8080/"
        },
        "id": "7oo51QEaFCH9",
        "outputId": "cea3abc2-f4eb-4d9b-b670-7c4b90e34c03"
      },
      "execution_count": null,
      "outputs": [
        {
          "output_type": "stream",
          "name": "stdout",
          "text": [
            "YF.download() has changed argument auto_adjust default to True\n"
          ]
        },
        {
          "output_type": "stream",
          "name": "stderr",
          "text": [
            "\r[*********************100%***********************]  1 of 1 completed"
          ]
        },
        {
          "output_type": "stream",
          "name": "stdout",
          "text": [
            "Price             Close         High          Low         Open      Volume\n",
            "Ticker            ^GSPC        ^GSPC        ^GSPC        ^GSPC       ^GSPC\n",
            "Date                                                                      \n",
            "2021-04-01  4019.870117  4020.629883  3992.780029  3992.780029  4162130000\n",
            "2021-04-05  4077.909912  4083.419922  4034.439941  4034.439941  4005030000\n",
            "2021-04-06  4073.939941  4086.229980  4068.139893  4075.570068  4081270000\n",
            "2021-04-07  4079.949951  4083.129883  4068.310059  4074.290039  4120810000\n",
            "2021-04-08  4097.169922  4098.189941  4082.540039  4089.949951  3907100000\n"
          ]
        },
        {
          "output_type": "stream",
          "name": "stderr",
          "text": [
            "\n"
          ]
        }
      ]
    },
    {
      "cell_type": "code",
      "source": [
        "#########################################\n",
        "##### Función para Crear Secuencias #####\n",
        "#########################################\n",
        "def create_sequences(data, seq_length, pred_length):\n",
        "    X, y = [], []\n",
        "    for i in range(len(data) - seq_length - pred_length + 1):\n",
        "        X.append(data[i:i+seq_length])\n",
        "        y.append(data[i+seq_length:i+seq_length+pred_length].flatten())\n",
        "    return np.array(X), np.array(y)\n"
      ],
      "metadata": {
        "id": "hMd8QM71FDS4"
      },
      "execution_count": null,
      "outputs": []
    },
    {
      "cell_type": "code",
      "source": [
        "##########################\n",
        "#### Hiperparámetros #####\n",
        "##########################\n",
        "\n",
        "seq_length = 5       # Días usados como input\n",
        "train_size = 955     # Tamaño inicial de la ventana de entrenamiento\n",
        "test_size = 1        # Tamaño del test en cada paso (Predicción a 1 paso)\n",
        "step_size = 1        # Desplazamiento en cada iteración\n",
        "\n"
      ],
      "metadata": {
        "id": "01REOKZDFFwE"
      },
      "execution_count": null,
      "outputs": []
    },
    {
      "cell_type": "code",
      "source": [
        "###################################################\n",
        "##### Expanding Window - Predicción a un paso #####\n",
        "###################################################\n",
        "\n",
        "all_predictions = []\n",
        "all_actuals = []\n",
        "all_dates = []\n",
        "iteration_times = []\n",
        "\n",
        "for target_day in range(train_size, len(data)):\n",
        "    seq_length = 5\n",
        "    last_seq_start = target_day - seq_length  # inicio de la secuencia\n",
        "    last_seq_end = target_day - 1             # fin de la secuencia (incluido)\n",
        "\n",
        "    # ⚠️ Verificación: no empezar antes del índice 0\n",
        "    if last_seq_start < 0:\n",
        "        continue\n",
        "\n",
        "    # Crear conjunto de entrenamiento hasta el día anterior al target\n",
        "    train_data = data.iloc[:target_day]  # datos hasta el día t-1 (excluye el target)\n",
        "\n",
        "    # Transformación MixMaxScaler\n",
        "    scaler = MinMaxScaler()\n",
        "    train_scaled = scaler.fit_transform(train_data)\n",
        "\n",
        "    # Crear secuencias de entrenamiento\n",
        "    X_train, y_train = create_sequences(train_scaled, seq_length, 1)\n",
        "    X_train = X_train.reshape((X_train.shape[0], seq_length, 1))\n",
        "\n",
        "    # Definir y compilar modelo\n",
        "    model = Sequential()\n",
        "    model.add(LSTM(20, return_sequences=True, input_shape=(seq_length, 1)))\n",
        "    model.add(Dropout(0.2))\n",
        "    model.add(LSTM(20, return_sequences=False))\n",
        "    model.add(Dropout(0.2))\n",
        "    model.add(Dense(test_size))\n",
        "    model.compile(optimizer='adam', loss='huber')\n",
        "\n",
        "    early_stop = EarlyStopping(monitor='val_loss', patience=5, restore_best_weights=True)\n",
        "\n",
        "    start_time = time.time()\n",
        "\n",
        "    # Entrenar modelo\n",
        "    model.fit(X_train, y_train,\n",
        "              epochs=50,\n",
        "              batch_size=16,\n",
        "              verbose=0,\n",
        "              validation_split=0.1,\n",
        "              callbacks=[early_stop])\n",
        "\n",
        "    end_time = time.time()\n",
        "\n",
        "    # Crear la secuencia de entrada para predecir target_day\n",
        "    last_seq_raw = data.iloc[last_seq_start:target_day].values  # días t-5 a t-1\n",
        "    last_seq_scaled = scaler.transform(last_seq_raw)  # escalar antes de pasar al modelo\n",
        "    last_seq = last_seq_scaled.reshape(1, seq_length, 1)\n",
        "\n",
        "    prediction_scaled = model.predict(last_seq, verbose=0)\n",
        "    prediction_inv = scaler.inverse_transform(prediction_scaled)\n",
        "\n",
        "    # Obtener el valor real del día predicho\n",
        "    y_real = data.iloc[[target_day]].values.reshape(1, -1)\n",
        "\n",
        "    # Guardar resultados\n",
        "    all_predictions.append(prediction_inv.flatten()[0])\n",
        "    all_actuals.append(y_real.flatten()[0])\n",
        "    all_dates.append(data.index[target_day])\n",
        "    iteration_times.append(end_time - start_time)\n",
        "\n",
        "    # Información de los pasos realizados\n",
        "    print(f\"Ventana {target_day - train_size + 1} - Día predicho: {data.index[target_day].date()}\")\n",
        "\n"
      ],
      "metadata": {
        "id": "XgnX6TBgFHTl",
        "collapsed": true
      },
      "execution_count": null,
      "outputs": []
    },
    {
      "cell_type": "code",
      "source": [
        "########################################\n",
        "#### Crear DataFrame con Resultados ####\n",
        "########################################\n",
        "\n",
        "all_predictions_flat = np.array(all_predictions).flatten()\n",
        "all_actuals_flat = np.array(all_actuals).flatten()\n",
        "\n",
        "results_df = pd.DataFrame({\n",
        "    'Date': all_dates,\n",
        "    'Predicted': all_predictions,\n",
        "    'Actual': all_actuals\n",
        "})\n",
        "results_df.set_index('Date', inplace=True)\n",
        "results_df.to_csv('LSTM_expanding.csv', index=True, sep=\",\", encoding='utf-8')"
      ],
      "metadata": {
        "id": "FWInTuGJFLGz"
      },
      "execution_count": null,
      "outputs": []
    },
    {
      "cell_type": "code",
      "source": [
        "#########################################\n",
        "#### Graficar Predicciones vs Reales ####\n",
        "#########################################\n",
        "plt.figure(figsize=(14,6))\n",
        "plt.plot(results_df.index, results_df['Actual'], label='Actual', color='blue')\n",
        "plt.plot(results_df.index, results_df['Predicted'], label='Predicted', color='orange')\n",
        "plt.title(\"Predicciones One-Step-Ahead (Expanding Window) vs Valores Reales\")\n",
        "plt.xlabel(\"Fecha\")\n",
        "plt.ylabel(\"Precio de Cierre\")\n",
        "plt.legend()\n",
        "plt.grid(True)\n",
        "plt.show()\n"
      ],
      "metadata": {
        "id": "hVY8UXueFMcm"
      },
      "execution_count": null,
      "outputs": []
    },
    {
      "cell_type": "code",
      "source": [
        "####################################################\n",
        "#### Estadísticas Básicas y Gráficos de Tiempos ####\n",
        "####################################################\n",
        "print(f\"\\nTiempo promedio por iteración: {np.mean(iteration_times):.2f} segundos\")\n",
        "print(f\"Tiempo total: {np.sum(iteration_times):.2f} segundos\")\n",
        "\n",
        "plt.figure(figsize=(12, 4))\n",
        "plt.plot(results_df.index,iteration_times, label='Tiempo por iteración (s)', color='green')\n",
        "plt.xlabel(\"Fecha\")\n",
        "plt.ylabel(\"Segundos\")\n",
        "plt.title(\"Tiempo de ejecución por ventana\")\n",
        "plt.grid(True)\n",
        "plt.legend()\n",
        "plt.savefig('/content/Execution_Time_LSTM.pdf', dpi=300)\n",
        "plt.show()\n"
      ],
      "metadata": {
        "id": "A-lPfdERFNok",
        "colab": {
          "base_uri": "https://localhost:8080/",
          "height": 211
        },
        "outputId": "d10ca51c-e77f-40c0-a7ba-25aba1785b53"
      },
      "execution_count": 1,
      "outputs": [
        {
          "output_type": "error",
          "ename": "NameError",
          "evalue": "name 'np' is not defined",
          "traceback": [
            "\u001b[0;31m---------------------------------------------------------------------------\u001b[0m",
            "\u001b[0;31mNameError\u001b[0m                                 Traceback (most recent call last)",
            "\u001b[0;32m<ipython-input-1-b202865281e0>\u001b[0m in \u001b[0;36m<cell line: 0>\u001b[0;34m()\u001b[0m\n\u001b[1;32m      2\u001b[0m \u001b[0;31m# 9. Estadísticas Básicas y Gráficos de Tiempos\u001b[0m\u001b[0;34m\u001b[0m\u001b[0;34m\u001b[0m\u001b[0m\n\u001b[1;32m      3\u001b[0m \u001b[0;31m# ------------------------------------------------------\u001b[0m\u001b[0;34m\u001b[0m\u001b[0;34m\u001b[0m\u001b[0m\n\u001b[0;32m----> 4\u001b[0;31m \u001b[0mprint\u001b[0m\u001b[0;34m(\u001b[0m\u001b[0;34mf\"\\nTiempo promedio por iteración: {np.mean(iteration_times):.2f} segundos\"\u001b[0m\u001b[0;34m)\u001b[0m\u001b[0;34m\u001b[0m\u001b[0;34m\u001b[0m\u001b[0m\n\u001b[0m\u001b[1;32m      5\u001b[0m \u001b[0mprint\u001b[0m\u001b[0;34m(\u001b[0m\u001b[0;34mf\"Tiempo total: {np.sum(iteration_times):.2f} segundos\"\u001b[0m\u001b[0;34m)\u001b[0m\u001b[0;34m\u001b[0m\u001b[0;34m\u001b[0m\u001b[0m\n\u001b[1;32m      6\u001b[0m \u001b[0;34m\u001b[0m\u001b[0m\n",
            "\u001b[0;31mNameError\u001b[0m: name 'np' is not defined"
          ]
        }
      ]
    },
    {
      "cell_type": "code",
      "source": [
        "##################################################\n",
        "#### Graficar Serie Original con Predicciones ####\n",
        "##################################################\n",
        "original_slice = data.loc[results_df.index.min():results_df.index.max()]\n",
        "pre_days = 90\n",
        "start_idx = data.index.get_loc(results_df.index.min())\n",
        "start_idx_with_buffer = max(0, start_idx - pre_days)\n",
        "extended_slice = data.iloc[start_idx_with_buffer:data.index.get_loc(results_df.index.max()) + 1]\n",
        "\n",
        "plt.figure(figsize=(14,6))\n",
        "plt.plot(extended_slice.index, extended_slice['Close'], label='Serie Original', color='black', alpha=0.5, linestyle='--')\n",
        "plt.plot(results_df.index, results_df['Actual'], label='Real (Observado)', color='blue')\n",
        "plt.plot(results_df.index, results_df['Predicted'], label='Predicción', color='orange')\n",
        "plt.title(\"Predicciones a un Paso (Expanding Window)\")\n",
        "plt.xlabel(\"Fecha\")\n",
        "plt.ylabel(\"Precio de Cierre\")\n",
        "plt.legend()\n",
        "plt.grid(True)\n",
        "plt.tight_layout()\n",
        "plt.savefig('/content/Forecast_LSTM.pdf', dpi=300)\n",
        "plt.show()\n"
      ],
      "metadata": {
        "id": "Vxqe-w8NFPBf"
      },
      "execution_count": null,
      "outputs": []
    }
  ]
}